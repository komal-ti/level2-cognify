{
 "cells": [
  {
   "cell_type": "code",
   "execution_count": 1,
   "metadata": {},
   "outputs": [],
   "source": [
    "import random\n"
   ]
  },
  {
   "cell_type": "code",
   "execution_count": 2,
   "metadata": {},
   "outputs": [
    {
     "name": "stdout",
     "output_type": "stream",
     "text": [
      "Welcome to the Number Guessing Game!\n",
      "I have selected a number between 1 and 100. Try to guess it.\n",
      "Type 'quit' to exit the game at any time.\n",
      "Too low! Try again.\n",
      "Thanks for playing! Goodbye!\n"
     ]
    }
   ],
   "source": [
    "import random\n",
    "\n",
    "def guess_the_number():\n",
    "    # Generate a random number between 1 and 100\n",
    "    number_to_guess = random.randint(1, 100)\n",
    "    print(\"Welcome to the Number Guessing Game!\")\n",
    "    print(\"I have selected a number between 1 and 100. Try to guess it.\")\n",
    "    print(\"Type 'quit' to exit the game at any time.\")\n",
    "\n",
    "    while True:\n",
    "        # Ask the user for their guess\n",
    "        user_input = input(\"Enter your guess: \").strip().lower()\n",
    "        \n",
    "        # Check if the user wants to quit\n",
    "        if user_input == \"quit\":\n",
    "            print(\"Thanks for playing! Goodbye!\")\n",
    "            break\n",
    "        \n",
    "        try:\n",
    "            # Convert the input to an integer\n",
    "            user_guess = int(user_input)\n",
    "            \n",
    "            if user_guess < 1 or user_guess > 100:\n",
    "                print(\"Please enter a number between 1 and 100.\")\n",
    "                continue\n",
    "            \n",
    "            # Check if the guess is correct, too high, or too low\n",
    "            if user_guess < number_to_guess:\n",
    "                print(\"Too low! Try again.\")\n",
    "            elif user_guess > number_to_guess:\n",
    "                print(\"Too high! Try again.\")\n",
    "            else:\n",
    "                print(f\"Congratulations! You've guessed the number {number_to_guess} correctly!\")\n",
    "                break\n",
    "        except ValueError:\n",
    "            print(\"Invalid input. Please enter a valid number or type 'quit' to exit.\")\n",
    "\n",
    "# Run the game\n",
    "guess_the_number()\n"
   ]
  },
  {
   "cell_type": "code",
   "execution_count": null,
   "metadata": {},
   "outputs": [],
   "source": []
  }
 ],
 "metadata": {
  "kernelspec": {
   "display_name": "Python 3",
   "language": "python",
   "name": "python3"
  },
  "language_info": {
   "codemirror_mode": {
    "name": "ipython",
    "version": 3
   },
   "file_extension": ".py",
   "mimetype": "text/x-python",
   "name": "python",
   "nbconvert_exporter": "python",
   "pygments_lexer": "ipython3",
   "version": "3.12.6"
  }
 },
 "nbformat": 4,
 "nbformat_minor": 2
}
