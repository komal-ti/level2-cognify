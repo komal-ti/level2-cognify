{
 "cells": [
  {
   "cell_type": "code",
   "execution_count": 1,
   "metadata": {},
   "outputs": [
    {
     "name": "stdout",
     "output_type": "stream",
     "text": [
      "Password should contain at least one uppercase letter.\n",
      "Your password is good, but can be improved.\n"
     ]
    }
   ],
   "source": [
    "import re\n",
    "\n",
    "def evaluate_password_strength(password):\n",
    "    # Initialize strength score\n",
    "    strength = 0\n",
    "    feedback = []\n",
    "\n",
    "    # Check for password length\n",
    "    if len(password) >= 8:\n",
    "        strength += 1\n",
    "    else:\n",
    "        feedback.append(\"Password should be at least 8 characters long.\")\n",
    "    \n",
    "    # Check for presence of lowercase letters\n",
    "    if re.search(r'[a-z]', password):\n",
    "        strength += 1\n",
    "    else:\n",
    "        feedback.append(\"Password should contain at least one lowercase letter.\")\n",
    "    \n",
    "    # Check for presence of uppercase letters\n",
    "    if re.search(r'[A-Z]', password):\n",
    "        strength += 1\n",
    "    else:\n",
    "        feedback.append(\"Password should contain at least one uppercase letter.\")\n",
    "    \n",
    "    # Check for presence of digits\n",
    "    if re.search(r'\\d', password):\n",
    "        strength += 1\n",
    "    else:\n",
    "        feedback.append(\"Password should contain at least one digit.\")\n",
    "    \n",
    "    # Check for presence of special characters\n",
    "    if re.search(r'[!@#$%^&*(),.?\":{}|<>]', password):\n",
    "        strength += 1\n",
    "    else:\n",
    "        feedback.append(\"Password should contain at least one special character.\")\n",
    "\n",
    "    # Evaluate overall strength\n",
    "    if strength == 5:\n",
    "        feedback.append(\"Your password is strong!\")\n",
    "    elif strength == 4:\n",
    "        feedback.append(\"Your password is good, but can be improved.\")\n",
    "    elif strength == 3:\n",
    "        feedback.append(\"Your password is decent, but needs improvement.\")\n",
    "    else:\n",
    "        feedback.append(\"Your password is weak. Please make it stronger.\")\n",
    "\n",
    "    return feedback\n",
    "\n",
    "# Test the function\n",
    "password = input(\"Enter a password to evaluate: \")\n",
    "feedback = evaluate_password_strength(password)\n",
    "for message in feedback:\n",
    "    print(message)\n"
   ]
  },
  {
   "cell_type": "code",
   "execution_count": null,
   "metadata": {},
   "outputs": [],
   "source": []
  }
 ],
 "metadata": {
  "kernelspec": {
   "display_name": "Python 3",
   "language": "python",
   "name": "python3"
  },
  "language_info": {
   "codemirror_mode": {
    "name": "ipython",
    "version": 3
   },
   "file_extension": ".py",
   "mimetype": "text/x-python",
   "name": "python",
   "nbconvert_exporter": "python",
   "pygments_lexer": "ipython3",
   "version": "3.12.6"
  }
 },
 "nbformat": 4,
 "nbformat_minor": 2
}
