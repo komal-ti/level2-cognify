{
 "cells": [
  {
   "cell_type": "code",
   "execution_count": 1,
   "metadata": {},
   "outputs": [
    {
     "name": "stdout",
     "output_type": "stream",
     "text": [
      "The Fibonacci sequence up to 5 terms is:\n",
      "[0, 1, 1, 2, 3]\n"
     ]
    }
   ],
   "source": [
    "def fibonacci_sequence(n):\n",
    "    # Check if the number of terms is a valid positive integer\n",
    "    if n <= 0:\n",
    "        print(\"Please enter a positive integer greater than 0.\")\n",
    "        return\n",
    "    \n",
    "    # Initialize the first two terms of the Fibonacci sequence\n",
    "    fibonacci = [0, 1]\n",
    "    \n",
    "    # Generate the Fibonacci sequence up to the specified number of terms\n",
    "    while len(fibonacci) < n:\n",
    "        next_term = fibonacci[-1] + fibonacci[-2]  # Sum of the last two terms\n",
    "        fibonacci.append(next_term)\n",
    "    \n",
    "    # Display the Fibonacci sequence up to the n-th term\n",
    "    print(f\"The Fibonacci sequence up to {n} terms is:\")\n",
    "    print(fibonacci[:n])\n",
    "\n",
    "# Ask the user for the number of terms in the Fibonacci sequence\n",
    "try:\n",
    "    num_terms = int(input(\"Enter the number of terms for the Fibonacci sequence: \"))\n",
    "    fibonacci_sequence(num_terms)\n",
    "except ValueError:\n",
    "    print(\"Invalid input. Please enter a valid integer.\")\n"
   ]
  },
  {
   "cell_type": "code",
   "execution_count": null,
   "metadata": {},
   "outputs": [],
   "source": []
  }
 ],
 "metadata": {
  "kernelspec": {
   "display_name": "Python 3",
   "language": "python",
   "name": "python3"
  },
  "language_info": {
   "codemirror_mode": {
    "name": "ipython",
    "version": 3
   },
   "file_extension": ".py",
   "mimetype": "text/x-python",
   "name": "python",
   "nbconvert_exporter": "python",
   "pygments_lexer": "ipython3",
   "version": "3.12.6"
  }
 },
 "nbformat": 4,
 "nbformat_minor": 2
}
