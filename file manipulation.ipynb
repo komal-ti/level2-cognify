{
 "cells": [
  {
   "cell_type": "code",
   "execution_count": 1,
   "metadata": {},
   "outputs": [
    {
     "name": "stdout",
     "output_type": "stream",
     "text": [
      "The file 'abc' was not found. Please provide a valid file name.\n"
     ]
    }
   ],
   "source": [
    "def count_words_in_file(file_name):\n",
    "    try:\n",
    "        # Open and read the file\n",
    "        with open(file_name, 'r') as file:\n",
    "            text = file.read()\n",
    "\n",
    "        # Normalize text: convert to lowercase and remove punctuation\n",
    "        words = text.lower()\n",
    "        words = ''.join(char if char.isalnum() or char.isspace() else ' ' for char in words).split()\n",
    "\n",
    "        # Count occurrences of each word\n",
    "        word_counts = {}\n",
    "        for word in words:\n",
    "            word_counts[word] = word_counts.get(word, 0) + 1\n",
    "\n",
    "        # Sort words alphabetically and display the counts\n",
    "        sorted_word_counts = dict(sorted(word_counts.items()))\n",
    "        print(f\"Word counts in '{file_name}':\")\n",
    "        for word, count in sorted_word_counts.items():\n",
    "            print(f\"{word}: {count}\")\n",
    "    except FileNotFoundError:\n",
    "        print(f\"The file '{file_name}' was not found. Please provide a valid file name.\")\n",
    "    except Exception as e:\n",
    "        print(f\"An error occurred: {e}\")\n",
    "\n",
    "# Prompt the user for a file name\n",
    "file_name = input(\"Enter the name of the text file (e.g., 'example.txt'): \")\n",
    "count_words_in_file(file_name)\n"
   ]
  },
  {
   "cell_type": "code",
   "execution_count": null,
   "metadata": {},
   "outputs": [],
   "source": []
  }
 ],
 "metadata": {
  "kernelspec": {
   "display_name": "Python 3",
   "language": "python",
   "name": "python3"
  },
  "language_info": {
   "codemirror_mode": {
    "name": "ipython",
    "version": 3
   },
   "file_extension": ".py",
   "mimetype": "text/x-python",
   "name": "python",
   "nbconvert_exporter": "python",
   "pygments_lexer": "ipython3",
   "version": "3.12.6"
  }
 },
 "nbformat": 4,
 "nbformat_minor": 2
}
