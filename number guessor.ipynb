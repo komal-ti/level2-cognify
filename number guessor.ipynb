{
 "cells": [
  {
   "cell_type": "code",
   "execution_count": 1,
   "metadata": {},
   "outputs": [
    {
     "name": "stdout",
     "output_type": "stream",
     "text": [
      "Welcome to the Number Guessing Game!\n",
      "Guess a number between 5 and 8.\n",
      "Congratulations! You've guessed the number 6 correctly!\n"
     ]
    }
   ],
   "source": [
    "import random\n",
    "\n",
    "def guess_the_number():\n",
    "    print(\"Welcome to the Number Guessing Game!\")\n",
    "\n",
    "    # Prompt the user for the range\n",
    "    lower_bound = int(input(\"Enter the lower bound of the range: \"))\n",
    "    upper_bound = int(input(\"Enter the upper bound of the range: \"))\n",
    "\n",
    "    # Generate a random number between the specified range\n",
    "    number_to_guess = random.randint(lower_bound, upper_bound)\n",
    "    \n",
    "    print(f\"Guess a number between {lower_bound} and {upper_bound}.\")\n",
    "\n",
    "    while True:\n",
    "        try:\n",
    "            # Ask the user for their guess\n",
    "            user_guess = int(input(\"Enter your guess: \"))\n",
    "            \n",
    "            # Check if the guess is within the range\n",
    "            if user_guess < lower_bound or user_guess > upper_bound:\n",
    "                print(f\"Please enter a number between {lower_bound} and {upper_bound}.\")\n",
    "                continue\n",
    "            \n",
    "            # Provide feedback on the guess\n",
    "            if user_guess < number_to_guess:\n",
    "                print(\"Too low! Try again.\")\n",
    "            elif user_guess > number_to_guess:\n",
    "                print(\"Too high! Try again.\")\n",
    "            else:\n",
    "                print(f\"Congratulations! You've guessed the number {number_to_guess} correctly!\")\n",
    "                break\n",
    "        except ValueError:\n",
    "            print(\"Invalid input. Please enter a valid number.\")\n",
    "\n",
    "# Run the game\n",
    "guess_the_number()\n"
   ]
  },
  {
   "cell_type": "code",
   "execution_count": null,
   "metadata": {},
   "outputs": [],
   "source": []
  }
 ],
 "metadata": {
  "kernelspec": {
   "display_name": "Python 3",
   "language": "python",
   "name": "python3"
  },
  "language_info": {
   "codemirror_mode": {
    "name": "ipython",
    "version": 3
   },
   "file_extension": ".py",
   "mimetype": "text/x-python",
   "name": "python",
   "nbconvert_exporter": "python",
   "pygments_lexer": "ipython3",
   "version": "3.12.6"
  }
 },
 "nbformat": 4,
 "nbformat_minor": 2
}
